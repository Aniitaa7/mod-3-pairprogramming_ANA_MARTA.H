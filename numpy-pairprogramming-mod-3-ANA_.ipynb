{
 "cells": [
  {
   "cell_type": "code",
   "execution_count": 1,
   "metadata": {},
   "outputs": [],
   "source": [
    "import numpy as np"
   ]
  },
  {
   "cell_type": "code",
   "execution_count": 2,
   "metadata": {},
   "outputs": [],
   "source": [
    "import random"
   ]
  },
  {
   "cell_type": "markdown",
   "metadata": {},
   "source": [
    "# Creación y Indexación"
   ]
  },
  {
   "cell_type": "code",
   "execution_count": 4,
   "metadata": {},
   "outputs": [
    {
     "data": {
      "text/plain": [
       "array([73, 88, 96, 76, 29, 62, 76, 55, 44, 26, 70, 64, 92, 37, 97, 64, 99,\n",
       "       71, 88, 40, 58, 86, 38, 24, 41, 38, 21, 70, 50, 22, 89, 43, 32, 86,\n",
       "       48, 97, 58, 52, 93, 30, 22, 44, 83, 11, 75, 79, 47, 21, 99, 93],\n",
       "      dtype=int32)"
      ]
     },
     "execution_count": 4,
     "metadata": {},
     "output_type": "execute_result"
    }
   ],
   "source": [
    "# 1. Crea un array 1D con 50 valores aleatorio del 10 al 99. Accede a los elementos en las posiciones múltiplos de 5.\n",
    "\n",
    "array_1d = np.random.randint(10, 100, size = (50))\n",
    "array_1d"
   ]
  },
  {
   "cell_type": "code",
   "execution_count": 6,
   "metadata": {},
   "outputs": [
    {
     "data": {
      "text/plain": [
       "array([55, 70, 40, 70, 50, 30, 75], dtype=int32)"
      ]
     },
     "execution_count": 6,
     "metadata": {},
     "output_type": "execute_result"
    }
   ],
   "source": [
    "multiplos_5 = array_1d[array_1d %5 == 0]\n",
    "multiplos_5"
   ]
  },
  {
   "cell_type": "code",
   "execution_count": 7,
   "metadata": {},
   "outputs": [
    {
     "data": {
      "text/plain": [
       "array([17, 11, 15, 11, 18,  9,  5, 15,  6,  3, 10, 14,  6, 17,  5, 17,  6,\n",
       "        8,  6,  2,  5,  2, 12, 14, 18, 14,  6, 12, 19, 14], dtype=int32)"
      ]
     },
     "execution_count": 7,
     "metadata": {},
     "output_type": "execute_result"
    }
   ],
   "source": [
    "# 2. Crea un array 1D con 30 valores del 1 al 20 (ambos incluidos). \n",
    "# Utiliza indexación para obtener los elementos en las posiciones impares.\n",
    "\n",
    "array_1d_2 = np.random.randint(1, 21, size = (30))\n",
    "array_1d_2"
   ]
  },
  {
   "cell_type": "code",
   "execution_count": 8,
   "metadata": {},
   "outputs": [
    {
     "data": {
      "text/plain": [
       "array([11, 11,  9, 15,  3, 14, 17, 17,  8,  2,  2, 14, 14, 12, 14],\n",
       "      dtype=int32)"
      ]
     },
     "execution_count": 8,
     "metadata": {},
     "output_type": "execute_result"
    }
   ],
   "source": [
    "array_1d_2[1::2]"
   ]
  },
  {
   "cell_type": "code",
   "execution_count": null,
   "metadata": {},
   "outputs": [],
   "source": [
    "# 3. Crea un array 2D de forma (4, 6) con números aleatorios decimales (no deben estar comprendidos solo entre 0 y 1)"
   ]
  },
  {
   "cell_type": "code",
   "execution_count": 13,
   "metadata": {},
   "outputs": [
    {
     "data": {
      "text/plain": [
       "array([[23.6776558 , 13.74272544, 39.00505554, 35.52671151, 36.03207684,\n",
       "        24.89897245],\n",
       "       [16.15819765, 25.71720564, 19.80223163, 30.26441591, 32.28029032,\n",
       "        39.00590796],\n",
       "       [37.70062953, 11.10509001, 28.94921686, 47.07848344, 47.8200022 ,\n",
       "        29.66560452],\n",
       "       [31.56931831, 16.71286257, 32.67642447, 18.17334658, 14.82306988,\n",
       "        20.09386157]])"
      ]
     },
     "execution_count": 13,
     "metadata": {},
     "output_type": "execute_result"
    }
   ],
   "source": [
    "array_2d = np.random.uniform(10, 50, size = (4, 6))\n",
    "array_2d"
   ]
  },
  {
   "cell_type": "code",
   "execution_count": 14,
   "metadata": {},
   "outputs": [
    {
     "data": {
      "text/plain": [
       "2"
      ]
     },
     "execution_count": 14,
     "metadata": {},
     "output_type": "execute_result"
    }
   ],
   "source": [
    "array_2d.ndim"
   ]
  },
  {
   "cell_type": "code",
   "execution_count": 15,
   "metadata": {},
   "outputs": [
    {
     "data": {
      "text/plain": [
       "array([31.57, 16.71, 32.68, 18.17, 14.82, 20.09])"
      ]
     },
     "execution_count": 15,
     "metadata": {},
     "output_type": "execute_result"
    }
   ],
   "source": [
    "# 3.1.  Accede a la última fila de la matriz. Los decimales deben estar redondeados a 2 decimales\n",
    "\n",
    "redondeado = np.round(array_2d[-1], 2)\n",
    "redondeado"
   ]
  },
  {
   "cell_type": "code",
   "execution_count": 30,
   "metadata": {},
   "outputs": [
    {
     "data": {
      "text/plain": [
       "array([[[ 14,  57,  26,  58,  61],\n",
       "        [ 74,  34,  14,  50,  89],\n",
       "        [ 14,  96,  23,  87,  90]],\n",
       "\n",
       "       [[ 76,  92,  18,  63, 100],\n",
       "        [ 70,  59,  24,  29,  59],\n",
       "        [ 27,   8,  94,  51,  59]]], dtype=int32)"
      ]
     },
     "execution_count": 30,
     "metadata": {},
     "output_type": "execute_result"
    }
   ],
   "source": [
    "# BONUS # \n",
    "# 4. Crea un array 3D de forma (2, 3, 5) y 30 elementos con números enteros entre 0 y 100 (ambos incluidos). \n",
    "# Reemplaza los elementos en posiciones múltiplos de 3 por 0.\n",
    "\n",
    "array_3d = np.random.randint(0, 101, (2, 3, 5))\n",
    "array_3d"
   ]
  },
  {
   "cell_type": "code",
   "execution_count": 32,
   "metadata": {},
   "outputs": [
    {
     "data": {
      "text/plain": [
       "array([[[False,  True, False, False, False],\n",
       "        [False, False, False, False, False],\n",
       "        [False,  True, False,  True,  True]],\n",
       "\n",
       "       [[False, False,  True,  True, False],\n",
       "        [False, False,  True, False, False],\n",
       "        [ True, False, False,  True, False]]])"
      ]
     },
     "execution_count": 32,
     "metadata": {},
     "output_type": "execute_result"
    }
   ],
   "source": [
    "mask = array_3d % 3 == 0\n",
    "mask"
   ]
  },
  {
   "cell_type": "code",
   "execution_count": 34,
   "metadata": {},
   "outputs": [
    {
     "data": {
      "text/plain": [
       "array([[[ 14,   0,  26,  58,  61],\n",
       "        [ 74,  34,  14,  50,  89],\n",
       "        [ 14,   0,  23,   0,   0]],\n",
       "\n",
       "       [[ 76,  92,   0,   0, 100],\n",
       "        [ 70,  59,   0,  29,  59],\n",
       "        [  0,   8,  94,   0,  59]]], dtype=int32)"
      ]
     },
     "execution_count": 34,
     "metadata": {},
     "output_type": "execute_result"
    }
   ],
   "source": [
    "array_3d[mask] = 0\n",
    "array_3d"
   ]
  },
  {
   "cell_type": "markdown",
   "metadata": {},
   "source": [
    "# Reshape y Transpose"
   ]
  },
  {
   "cell_type": "code",
   "execution_count": null,
   "metadata": {},
   "outputs": [],
   "source": [
    "# 1. Crea un array 3D de forma (2, 3, 4) con valores aleatorios entre 1 y 100 (ambos inclusive). \n",
    "# Utiliza reshape para convertirlo en un array 2D. Deberás pensar en la forma que es correcta para hacer este cambio."
   ]
  },
  {
   "cell_type": "code",
   "execution_count": 38,
   "metadata": {},
   "outputs": [
    {
     "data": {
      "text/plain": [
       "array([[[55, 13, 12,  2],\n",
       "        [40, 75, 60, 19],\n",
       "        [55, 29, 85, 27]],\n",
       "\n",
       "       [[67, 50, 47, 51],\n",
       "        [82, 86, 72, 26],\n",
       "        [15, 36, 44, 83]]], dtype=int32)"
      ]
     },
     "execution_count": 38,
     "metadata": {},
     "output_type": "execute_result"
    }
   ],
   "source": [
    "tridimensional = np.random.randint(1, 101, size = (2, 3, 4))\n",
    "tridimensional"
   ]
  },
  {
   "cell_type": "code",
   "execution_count": 43,
   "metadata": {},
   "outputs": [
    {
     "data": {
      "text/plain": [
       "array([[55, 13, 12,  2, 40, 75],\n",
       "       [60, 19, 55, 29, 85, 27],\n",
       "       [67, 50, 47, 51, 82, 86],\n",
       "       [72, 26, 15, 36, 44, 83]], dtype=int32)"
      ]
     },
     "execution_count": 43,
     "metadata": {},
     "output_type": "execute_result"
    }
   ],
   "source": [
    "# Utiliza reshape para convertirlo en un array 2D. Deberás pensar en la forma que es correcta para hacer este cambio.\n",
    "\n",
    "cambio_dimension = np.reshape(tridimensional, (4, 6))\n",
    "cambio_dimension"
   ]
  },
  {
   "cell_type": "code",
   "execution_count": null,
   "metadata": {},
   "outputs": [],
   "source": [
    "# 2. Crea un array 3D de forma (3, 4, 5) con valores enteros del 1 al 61 (sin incluir). \n",
    "# Utiliza reshape para convertirlo en un array 2D"
   ]
  },
  {
   "cell_type": "code",
   "execution_count": null,
   "metadata": {},
   "outputs": [],
   "source": []
  }
 ],
 "metadata": {
  "kernelspec": {
   "display_name": "Python 3",
   "language": "python",
   "name": "python3"
  },
  "language_info": {
   "codemirror_mode": {
    "name": "ipython",
    "version": 3
   },
   "file_extension": ".py",
   "mimetype": "text/x-python",
   "name": "python",
   "nbconvert_exporter": "python",
   "pygments_lexer": "ipython3",
   "version": "3.12.5"
  }
 },
 "nbformat": 4,
 "nbformat_minor": 2
}
