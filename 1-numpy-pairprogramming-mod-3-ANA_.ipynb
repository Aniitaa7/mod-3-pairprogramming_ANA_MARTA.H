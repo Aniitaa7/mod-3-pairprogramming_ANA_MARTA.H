{
 "cells": [
  {
   "cell_type": "code",
   "execution_count": 1,
   "metadata": {},
   "outputs": [],
   "source": [
    "import numpy as np"
   ]
  },
  {
   "cell_type": "code",
   "execution_count": 2,
   "metadata": {},
   "outputs": [],
   "source": [
    "import random"
   ]
  },
  {
   "cell_type": "markdown",
   "metadata": {},
   "source": [
    "# Creación y Indexación"
   ]
  },
  {
   "cell_type": "code",
   "execution_count": 3,
   "metadata": {},
   "outputs": [
    {
     "data": {
      "text/plain": [
       "array([74, 57, 64, 21, 64, 58, 17, 28, 76, 39, 42, 52, 50, 86, 32, 30, 42,\n",
       "       75, 76, 93, 91, 77, 62, 65, 10, 97, 79, 88, 89, 50, 29, 72, 30, 61,\n",
       "       83, 76, 78, 79, 12, 28, 59, 14, 38, 60, 30, 76, 54, 78, 24, 19],\n",
       "      dtype=int32)"
      ]
     },
     "execution_count": 3,
     "metadata": {},
     "output_type": "execute_result"
    }
   ],
   "source": [
    "# 1. Crea un array 1D con 50 valores aleatorio del 10 al 99. Accede a los elementos en las posiciones múltiplos de 5.\n",
    "\n",
    "array_1d = np.random.randint(10, 100, size = (50))\n",
    "array_1d"
   ]
  },
  {
   "cell_type": "code",
   "execution_count": 4,
   "metadata": {},
   "outputs": [
    {
     "data": {
      "text/plain": [
       "array([50, 30, 75, 65, 10, 50, 30, 60, 30], dtype=int32)"
      ]
     },
     "execution_count": 4,
     "metadata": {},
     "output_type": "execute_result"
    }
   ],
   "source": [
    "multiplos_5 = array_1d[array_1d %5 == 0]\n",
    "multiplos_5"
   ]
  },
  {
   "cell_type": "code",
   "execution_count": 5,
   "metadata": {},
   "outputs": [
    {
     "data": {
      "text/plain": [
       "array([20,  5,  8,  6, 20, 19, 20,  1, 18,  6, 17,  2,  5,  1, 20,  1, 15,\n",
       "        3, 17,  4, 16,  4,  7, 17, 10,  9, 17,  7, 15, 16], dtype=int32)"
      ]
     },
     "execution_count": 5,
     "metadata": {},
     "output_type": "execute_result"
    }
   ],
   "source": [
    "# 2. Crea un array 1D con 30 valores del 1 al 20 (ambos incluidos). \n",
    "# Utiliza indexación para obtener los elementos en las posiciones impares.\n",
    "\n",
    "array_1d_2 = np.random.randint(1, 21, size = (30))\n",
    "array_1d_2"
   ]
  },
  {
   "cell_type": "code",
   "execution_count": 6,
   "metadata": {},
   "outputs": [
    {
     "data": {
      "text/plain": [
       "array([ 5,  6, 19,  1,  6,  2,  1,  1,  3,  4,  4, 17,  9,  7, 16],\n",
       "      dtype=int32)"
      ]
     },
     "execution_count": 6,
     "metadata": {},
     "output_type": "execute_result"
    }
   ],
   "source": [
    "array_1d_2[1::2]"
   ]
  },
  {
   "cell_type": "code",
   "execution_count": 7,
   "metadata": {},
   "outputs": [],
   "source": [
    "# 3. Crea un array 2D de forma (4, 6) con números aleatorios decimales (no deben estar comprendidos solo entre 0 y 1)"
   ]
  },
  {
   "cell_type": "code",
   "execution_count": 8,
   "metadata": {},
   "outputs": [
    {
     "data": {
      "text/plain": [
       "array([[23.32144662, 29.72763175, 45.07732403, 37.82161752, 48.13356034,\n",
       "        41.87543027],\n",
       "       [41.76103622, 30.70811549, 27.8662866 , 10.59795174, 16.3518171 ,\n",
       "        43.62737567],\n",
       "       [43.36781704, 29.74486728, 43.45823389, 36.41307828, 39.76339768,\n",
       "        13.85231315],\n",
       "       [32.21587466, 33.40769254, 10.09053487, 24.81476239, 13.54314995,\n",
       "        32.78243546]])"
      ]
     },
     "execution_count": 8,
     "metadata": {},
     "output_type": "execute_result"
    }
   ],
   "source": [
    "array_2d = np.random.uniform(10, 50, size = (4, 6))\n",
    "array_2d"
   ]
  },
  {
   "cell_type": "code",
   "execution_count": 9,
   "metadata": {},
   "outputs": [
    {
     "data": {
      "text/plain": [
       "2"
      ]
     },
     "execution_count": 9,
     "metadata": {},
     "output_type": "execute_result"
    }
   ],
   "source": [
    "array_2d.ndim"
   ]
  },
  {
   "cell_type": "code",
   "execution_count": 10,
   "metadata": {},
   "outputs": [
    {
     "data": {
      "text/plain": [
       "array([32.22, 33.41, 10.09, 24.81, 13.54, 32.78])"
      ]
     },
     "execution_count": 10,
     "metadata": {},
     "output_type": "execute_result"
    }
   ],
   "source": [
    "# 3.1.  Accede a la última fila de la matriz. Los decimales deben estar redondeados a 2 decimales\n",
    "\n",
    "redondeado = np.round(array_2d[-1], 2)\n",
    "redondeado"
   ]
  },
  {
   "cell_type": "code",
   "execution_count": 11,
   "metadata": {},
   "outputs": [
    {
     "data": {
      "text/plain": [
       "array([[[51, 44, 52, 65, 70],\n",
       "        [30, 91, 15, 18, 50],\n",
       "        [63, 14, 59, 65, 50]],\n",
       "\n",
       "       [[91, 10, 66,  2, 81],\n",
       "        [40, 73, 79, 24, 69],\n",
       "        [80, 19, 98, 44, 84]]], dtype=int32)"
      ]
     },
     "execution_count": 11,
     "metadata": {},
     "output_type": "execute_result"
    }
   ],
   "source": [
    "# BONUS # \n",
    "# 4. Crea un array 3D de forma (2, 3, 5) y 30 elementos con números enteros entre 0 y 100 (ambos incluidos). \n",
    "# Reemplaza los elementos en posiciones múltiplos de 3 por 0.\n",
    "\n",
    "array_3d = np.random.randint(0, 101, (2, 3, 5))\n",
    "array_3d"
   ]
  },
  {
   "cell_type": "code",
   "execution_count": 12,
   "metadata": {},
   "outputs": [
    {
     "data": {
      "text/plain": [
       "array([[[ True, False, False, False, False],\n",
       "        [ True, False,  True,  True, False],\n",
       "        [ True, False, False, False, False]],\n",
       "\n",
       "       [[False, False,  True, False,  True],\n",
       "        [False, False, False,  True,  True],\n",
       "        [False, False, False, False,  True]]])"
      ]
     },
     "execution_count": 12,
     "metadata": {},
     "output_type": "execute_result"
    }
   ],
   "source": [
    "mask = array_3d % 3 == 0\n",
    "mask"
   ]
  },
  {
   "cell_type": "code",
   "execution_count": 13,
   "metadata": {},
   "outputs": [
    {
     "data": {
      "text/plain": [
       "array([[[ 0, 44, 52, 65, 70],\n",
       "        [ 0, 91,  0,  0, 50],\n",
       "        [ 0, 14, 59, 65, 50]],\n",
       "\n",
       "       [[91, 10,  0,  2,  0],\n",
       "        [40, 73, 79,  0,  0],\n",
       "        [80, 19, 98, 44,  0]]], dtype=int32)"
      ]
     },
     "execution_count": 13,
     "metadata": {},
     "output_type": "execute_result"
    }
   ],
   "source": [
    "array_3d[mask] = 0\n",
    "array_3d"
   ]
  },
  {
   "cell_type": "markdown",
   "metadata": {},
   "source": [
    "# Reshape y Transpose"
   ]
  },
  {
   "cell_type": "code",
   "execution_count": 14,
   "metadata": {},
   "outputs": [],
   "source": [
    "# 1. Crea un array 3D de forma (2, 3, 4) con valores aleatorios entre 1 y 100 (ambos inclusive). \n",
    "# Utiliza reshape para convertirlo en un array 2D. Deberás pensar en la forma que es correcta para hacer este cambio."
   ]
  },
  {
   "cell_type": "code",
   "execution_count": 15,
   "metadata": {},
   "outputs": [
    {
     "data": {
      "text/plain": [
       "array([[[52, 16, 10,  3],\n",
       "        [56, 74, 56, 79],\n",
       "        [26,  6, 36, 47]],\n",
       "\n",
       "       [[30, 73, 41, 94],\n",
       "        [64, 80, 59, 99],\n",
       "        [73, 35, 86, 29]]], dtype=int32)"
      ]
     },
     "execution_count": 15,
     "metadata": {},
     "output_type": "execute_result"
    }
   ],
   "source": [
    "tridimensional = np.random.randint(1, 101, size = (2, 3, 4))\n",
    "tridimensional"
   ]
  },
  {
   "cell_type": "code",
   "execution_count": 16,
   "metadata": {},
   "outputs": [
    {
     "data": {
      "text/plain": [
       "array([[52, 16, 10,  3, 56, 74],\n",
       "       [56, 79, 26,  6, 36, 47],\n",
       "       [30, 73, 41, 94, 64, 80],\n",
       "       [59, 99, 73, 35, 86, 29]], dtype=int32)"
      ]
     },
     "execution_count": 16,
     "metadata": {},
     "output_type": "execute_result"
    }
   ],
   "source": [
    "# Utiliza reshape para convertirlo en un array 2D. Deberás pensar en la forma que es correcta para hacer este cambio.\n",
    "\n",
    "cambio_dimension = np.reshape(tridimensional, (4, 6))\n",
    "cambio_dimension"
   ]
  },
  {
   "cell_type": "code",
   "execution_count": 17,
   "metadata": {},
   "outputs": [],
   "source": [
    "# 2. Crea un array 3D de forma (3, 4, 5) con valores enteros del 1 al 61 (sin incluir). \n",
    "# Utiliza reshape para convertirlo en un array 2D"
   ]
  },
  {
   "cell_type": "code",
   "execution_count": 18,
   "metadata": {},
   "outputs": [
    {
     "data": {
      "text/plain": [
       "array([[[57, 47,  9, 35, 44],\n",
       "        [20, 49,  3, 35, 17],\n",
       "        [49, 50, 44, 18, 30],\n",
       "        [37, 26, 48, 57, 37]],\n",
       "\n",
       "       [[28,  6, 52, 27, 47],\n",
       "        [46, 17, 30,  3, 20],\n",
       "        [27, 34, 58, 23, 10],\n",
       "        [19, 30, 13, 59, 29]],\n",
       "\n",
       "       [[23, 56,  9, 36, 18],\n",
       "        [47, 31, 47,  9,  4],\n",
       "        [26,  2, 29, 12, 35],\n",
       "        [28, 17, 36, 19, 46]]], dtype=int32)"
      ]
     },
     "execution_count": 18,
     "metadata": {},
     "output_type": "execute_result"
    }
   ],
   "source": [
    "tridimensional2 = np.random.randint(2, 61, (3, 4, 5))\n",
    "tridimensional2"
   ]
  },
  {
   "cell_type": "code",
   "execution_count": 19,
   "metadata": {},
   "outputs": [
    {
     "data": {
      "text/plain": [
       "array([[57, 47,  9, 35, 44],\n",
       "       [20, 49,  3, 35, 17],\n",
       "       [49, 50, 44, 18, 30],\n",
       "       [37, 26, 48, 57, 37],\n",
       "       [28,  6, 52, 27, 47],\n",
       "       [46, 17, 30,  3, 20],\n",
       "       [27, 34, 58, 23, 10],\n",
       "       [19, 30, 13, 59, 29],\n",
       "       [23, 56,  9, 36, 18],\n",
       "       [47, 31, 47,  9,  4],\n",
       "       [26,  2, 29, 12, 35],\n",
       "       [28, 17, 36, 19, 46]], dtype=int32)"
      ]
     },
     "execution_count": 19,
     "metadata": {},
     "output_type": "execute_result"
    }
   ],
   "source": [
    "cambio_2d = np.reshape(tridimensional2, (12, 5))\n",
    "cambio_2d"
   ]
  },
  {
   "cell_type": "code",
   "execution_count": 20,
   "metadata": {},
   "outputs": [],
   "source": [
    "# 3. Utiliza el array 3D del ejercicio 2 de reshape. \n",
    "# Utiliza transpose para permutar los ejes y obtener un nuevo array con forma (5, 4, 3)."
   ]
  },
  {
   "cell_type": "code",
   "execution_count": 21,
   "metadata": {},
   "outputs": [
    {
     "data": {
      "text/plain": [
       "array([[[57, 28, 23],\n",
       "        [20, 46, 47],\n",
       "        [49, 27, 26],\n",
       "        [37, 19, 28]],\n",
       "\n",
       "       [[47,  6, 56],\n",
       "        [49, 17, 31],\n",
       "        [50, 34,  2],\n",
       "        [26, 30, 17]],\n",
       "\n",
       "       [[ 9, 52,  9],\n",
       "        [ 3, 30, 47],\n",
       "        [44, 58, 29],\n",
       "        [48, 13, 36]],\n",
       "\n",
       "       [[35, 27, 36],\n",
       "        [35,  3,  9],\n",
       "        [18, 23, 12],\n",
       "        [57, 59, 19]],\n",
       "\n",
       "       [[44, 47, 18],\n",
       "        [17, 20,  4],\n",
       "        [30, 10, 35],\n",
       "        [37, 29, 46]]], dtype=int32)"
      ]
     },
     "execution_count": 21,
     "metadata": {},
     "output_type": "execute_result"
    }
   ],
   "source": [
    "con_transpose = tridimensional2.transpose(2, 1, 0)\n",
    "con_transpose\n"
   ]
  },
  {
   "cell_type": "code",
   "execution_count": 22,
   "metadata": {},
   "outputs": [],
   "source": [
    "# 4. Utiliza el array 3D del ejercicio 2 de reshape. \n",
    "# Utiliza transpose para cambiar el orden de los ejes y obtener un nuevo array con forma (3, 5, 4)."
   ]
  },
  {
   "cell_type": "code",
   "execution_count": 23,
   "metadata": {},
   "outputs": [
    {
     "data": {
      "text/plain": [
       "array([[[57, 20, 49, 37],\n",
       "        [47, 49, 50, 26],\n",
       "        [ 9,  3, 44, 48],\n",
       "        [35, 35, 18, 57],\n",
       "        [44, 17, 30, 37]],\n",
       "\n",
       "       [[28, 46, 27, 19],\n",
       "        [ 6, 17, 34, 30],\n",
       "        [52, 30, 58, 13],\n",
       "        [27,  3, 23, 59],\n",
       "        [47, 20, 10, 29]],\n",
       "\n",
       "       [[23, 47, 26, 28],\n",
       "        [56, 31,  2, 17],\n",
       "        [ 9, 47, 29, 36],\n",
       "        [36,  9, 12, 19],\n",
       "        [18,  4, 35, 46]]], dtype=int32)"
      ]
     },
     "execution_count": 23,
     "metadata": {},
     "output_type": "execute_result"
    }
   ],
   "source": [
    "cambio_2 = tridimensional2.transpose(0, 2, 1)\n",
    "cambio_2"
   ]
  },
  {
   "cell_type": "markdown",
   "metadata": {},
   "source": [
    "# Preguntas teóricas"
   ]
  },
  {
   "cell_type": "code",
   "execution_count": 24,
   "metadata": {},
   "outputs": [],
   "source": [
    "# 5. ¿Qué diferencia existe entre el reshape y el transpose?"
   ]
  },
  {
   "cell_type": "code",
   "execution_count": 25,
   "metadata": {},
   "outputs": [],
   "source": [
    "# 6. ¿Y entre el transpose y el swapaxes?\n"
   ]
  },
  {
   "cell_type": "markdown",
   "metadata": {},
   "source": [
    "# Funciones Aritméticas y Estadísticas"
   ]
  },
  {
   "cell_type": "code",
   "execution_count": 26,
   "metadata": {},
   "outputs": [],
   "source": [
    "# 1.Crea un array de tres 3D con elementos entre el 0 y 1 de forma (2, 3, 5) cuyos valores solo tengan 1 decimal."
   ]
  },
  {
   "cell_type": "code",
   "execution_count": 27,
   "metadata": {},
   "outputs": [
    {
     "data": {
      "text/plain": [
       "array([[[0.2, 0.4, 0.5, 1. , 0.6],\n",
       "        [0. , 0.7, 0.3, 0.8, 0.2],\n",
       "        [0.5, 0.9, 0.9, 1. , 0. ]],\n",
       "\n",
       "       [[0.6, 0.6, 0.8, 0.9, 0.4],\n",
       "        [0.7, 0.9, 0.1, 0.1, 0.6],\n",
       "        [0.1, 1. , 0.8, 1. , 0.1]]])"
      ]
     },
     "execution_count": 27,
     "metadata": {},
     "output_type": "execute_result"
    }
   ],
   "source": [
    "array_3d = np.round(np.random.uniform(0, 1, (2, 3, 5)), 1)\n",
    "array_3d"
   ]
  },
  {
   "cell_type": "code",
   "execution_count": 28,
   "metadata": {},
   "outputs": [],
   "source": [
    "# 2. Crea un array vacío con la misma forma y dimensiones que el array creado anteriormente. \n",
    "# Vamos a reemplazar los valores de la matriz vacía que nos acabamos de crear pero basándonos en los valores del primer array \n",
    "# bajo las siguientes condiciones:"
   ]
  },
  {
   "cell_type": "code",
   "execution_count": 41,
   "metadata": {},
   "outputs": [
    {
     "data": {
      "text/plain": [
       "array([[[1.00286629e-311, 1.02765654e-321, 0.00000000e+000,\n",
       "         0.00000000e+000, 7.56587583e-307],\n",
       "        [5.02034658e+175, 8.69524087e-071, 1.43643440e-071,\n",
       "         4.35381930e-061, 1.82712122e+184],\n",
       "        [1.03985463e-071, 8.06864109e-144, 3.59751658e+252,\n",
       "         3.96046095e+246, 1.04918621e-153]],\n",
       "\n",
       "       [[7.69165785e+218, 5.04621343e+180, 1.04917822e-153,\n",
       "         9.08366793e+223, 8.69524087e-071],\n",
       "        [1.43643440e-071, 4.35381930e-061, 1.82712122e+184,\n",
       "         1.04917821e-153, 1.94918966e-153],\n",
       "        [9.72159846e-072, 9.71521171e-067, 5.64579440e-038,\n",
       "         2.59027896e-144, 7.79952704e-143]]])"
      ]
     },
     "execution_count": 41,
     "metadata": {},
     "output_type": "execute_result"
    }
   ],
   "source": [
    "array_vacio = np.empty((2, 3, 5))\n",
    "array_vacio\n"
   ]
  },
  {
   "cell_type": "code",
   "execution_count": null,
   "metadata": {},
   "outputs": [],
   "source": [
    "# Si el valor del array es igual que la media, se reemplaza por \"A\".\n",
    "# Si el valor del array es mayor que la media, se reemplaza por \"B\".\n",
    "# Si el valor del array es menor que la media, se reemplaza por \"C\"\n",
    "# Si el valor es igual que el máximo, se reemplaza por \"D\"\n",
    "# Si el valor es igual que el mínimo, se reemplaza por \"E\"."
   ]
  },
  {
   "cell_type": "code",
   "execution_count": 45,
   "metadata": {},
   "outputs": [],
   "source": [
    "array_vacio = array_vacio.astype(object)"
   ]
  },
  {
   "cell_type": "code",
   "execution_count": 43,
   "metadata": {},
   "outputs": [],
   "source": [
    "media = np.mean(array_vacio)\n",
    "valor_maximo = np.max(array_vacio)\n",
    "valor_minimo = np.min(array_vacio)"
   ]
  },
  {
   "cell_type": "code",
   "execution_count": 48,
   "metadata": {},
   "outputs": [],
   "source": [
    "# Reemplazar los valores según las condiciones dadas'\n",
    "array_vacio[array_vacio == valor_maximo] = \"D\"  # Igual al máximo -> 'D'\n",
    "array_vacio[array_vacio == valor_minimo] = \"E\"  # Igual al mínimo -> 'E'"
   ]
  },
  {
   "cell_type": "code",
   "execution_count": 51,
   "metadata": {},
   "outputs": [
    {
     "data": {
      "text/plain": [
       "array([[[1.002866290275e-311, 1.03e-321, 'E', 'E',\n",
       "         7.565875834485345e-307],\n",
       "        [5.020346578198683e+175, 8.695240869001642e-71,\n",
       "         1.4364343974060892e-71, 4.3538192975382835e-61,\n",
       "         1.827121218059869e+184],\n",
       "        [1.0398546283683394e-71, 8.068641086557318e-144, 'B',\n",
       "         3.960460952352905e+246, 1.049186205850693e-153]],\n",
       "\n",
       "       [[7.691657851623983e+218, 5.046213426914492e+180,\n",
       "         1.0491782215367351e-153, 9.083667925815433e+223,\n",
       "         8.695240869001642e-71],\n",
       "        [1.4364343974060892e-71, 4.3538192975382835e-61,\n",
       "         1.827121218059869e+184, 1.0491782055759443e-153,\n",
       "         1.949189659567389e-153],\n",
       "        [9.72159845687573e-72, 9.715211707824917e-67,\n",
       "         5.645794399171466e-38, 2.5902789598839934e-144,\n",
       "         7.799527044147088e-143]]], dtype=object)"
      ]
     },
     "execution_count": 51,
     "metadata": {},
     "output_type": "execute_result"
    }
   ],
   "source": [
    "array_vacio"
   ]
  },
  {
   "cell_type": "code",
   "execution_count": null,
   "metadata": {},
   "outputs": [],
   "source": [
    "array_vacio[array_vacio == media] = \"A\"         # Igual a la media -> 'A'\n",
    "array_vacio[array_vacio > media] = \"B\"          # Mayor que la media -> 'B'\n",
    "array_vacio[array_vacio < media] = \"C\"          # Menor que la media -> 'C'"
   ]
  }
 ],
 "metadata": {
  "kernelspec": {
   "display_name": "Python 3",
   "language": "python",
   "name": "python3"
  },
  "language_info": {
   "codemirror_mode": {
    "name": "ipython",
    "version": 3
   },
   "file_extension": ".py",
   "mimetype": "text/x-python",
   "name": "python",
   "nbconvert_exporter": "python",
   "pygments_lexer": "ipython3",
   "version": "3.12.5"
  }
 },
 "nbformat": 4,
 "nbformat_minor": 2
}
